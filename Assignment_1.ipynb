{
 "metadata": {
  "name": "",
  "signature": "sha256:e83ba12360b2702f271e985c20a0ba71542898fdc6783ea8263f9f8e18ecb8ab"
 },
 "nbformat": 3,
 "nbformat_minor": 0,
 "worksheets": [
  {
   "cells": [
    {
     "cell_type": "heading",
     "level": 6,
     "metadata": {},
     "source": [
      "Due by 5pm on Friday, January 15, 2016. \n",
      "Submit by email to computationforpolicy@lists.uchicago.edu."
     ]
    },
    {
     "cell_type": "heading",
     "level": 2,
     "metadata": {},
     "source": [
      "Part I"
     ]
    },
    {
     "cell_type": "code",
     "collapsed": false,
     "input": [
      "# Question 1: Write a piece of code that reads in the data to a format that you can use"
     ],
     "language": "python",
     "metadata": {},
     "outputs": [],
     "prompt_number": 1
    },
    {
     "cell_type": "code",
     "collapsed": false,
     "input": [
      "%matplotlib inline\n",
      "import numpy as np\n",
      "import pandas as pd\n",
      "import matplotlib.pyplot as plt"
     ],
     "language": "python",
     "metadata": {},
     "outputs": [],
     "prompt_number": 2
    },
    {
     "cell_type": "code",
     "collapsed": false,
     "input": [
      "cd Downloads"
     ],
     "language": "python",
     "metadata": {},
     "outputs": [
      {
       "output_type": "stream",
       "stream": "stdout",
       "text": [
        "/home/studentuser/Downloads\n"
       ]
      }
     ],
     "prompt_number": 3
    },
    {
     "cell_type": "code",
     "collapsed": false,
     "input": [
      "ls"
     ],
     "language": "python",
     "metadata": {},
     "outputs": [
      {
       "output_type": "stream",
       "stream": "stdout",
       "text": [
        "Crimes_-_2001_to_present.csv\r\n"
       ]
      }
     ],
     "prompt_number": 4
    },
    {
     "cell_type": "code",
     "collapsed": false,
     "input": [
      "df_crimes = pd.read_csv('Crimes_-_2001_to_present.csv') #reads in csv file"
     ],
     "language": "python",
     "metadata": {},
     "outputs": [],
     "prompt_number": 5
    },
    {
     "cell_type": "code",
     "collapsed": false,
     "input": [
      "#Question 2: How often did a crime result in an arrest?"
     ],
     "language": "python",
     "metadata": {},
     "outputs": [],
     "prompt_number": 6
    },
    {
     "cell_type": "code",
     "collapsed": false,
     "input": [
      "df_crimes['Arrest'] #displays arrest column (a series) only and all of its contents"
     ],
     "language": "python",
     "metadata": {},
     "outputs": [
      {
       "metadata": {},
       "output_type": "pyout",
       "prompt_number": 7,
       "text": [
        "0     False\n",
        "1     False\n",
        "2      True\n",
        "3     False\n",
        "4     False\n",
        "5     False\n",
        "6     False\n",
        "7     False\n",
        "8     False\n",
        "9     False\n",
        "10     True\n",
        "11     True\n",
        "12    False\n",
        "13    False\n",
        "14     True\n",
        "...\n",
        "21863    False\n",
        "21864    False\n",
        "21865    False\n",
        "21866    False\n",
        "21867    False\n",
        "21868     True\n",
        "21869    False\n",
        "21870     True\n",
        "21871    False\n",
        "21872    False\n",
        "21873    False\n",
        "21874    False\n",
        "21875    False\n",
        "21876    False\n",
        "21877    False\n",
        "Name: Arrest, Length: 21878, dtype: bool"
       ]
      }
     ],
     "prompt_number": 7
    },
    {
     "cell_type": "code",
     "collapsed": false,
     "input": [
      "len(df_crimes[df_crimes['Arrest'] == True])\n",
      "# in the list of crimes, looking only at the Arrest column, this line of code calculates \n",
      "# how long the list of arrests is where the result is True and therefore the frequency of arrests"
     ],
     "language": "python",
     "metadata": {},
     "outputs": [
      {
       "metadata": {},
       "output_type": "pyout",
       "prompt_number": 8,
       "text": [
        "3676"
       ]
      }
     ],
     "prompt_number": 8
    },
    {
     "cell_type": "code",
     "collapsed": false,
     "input": [
      "# ANSWER TO Q2: A total of 3,676 crimes resulted in arrest."
     ],
     "language": "python",
     "metadata": {},
     "outputs": [],
     "prompt_number": 9
    },
    {
     "cell_type": "code",
     "collapsed": false,
     "input": [
      "#Question 3: Which types of crime most often result in arrest?"
     ],
     "language": "python",
     "metadata": {},
     "outputs": [],
     "prompt_number": 10
    },
    {
     "cell_type": "code",
     "collapsed": false,
     "input": [
      "# as FYI, checking out the types of crime included in the original crimes table\n",
      "np.unique(df_crimes['Primary Type'])"
     ],
     "language": "python",
     "metadata": {},
     "outputs": [
      {
       "metadata": {},
       "output_type": "pyout",
       "prompt_number": 11,
       "text": [
        "array(['ARSON', 'ASSAULT', 'BATTERY', 'BURGLARY',\n",
        "       'CONCEALED CARRY LICENSE VIOLATION', 'CRIM SEXUAL ASSAULT',\n",
        "       'CRIMINAL DAMAGE', 'CRIMINAL TRESPASS', 'DECEPTIVE PRACTICE',\n",
        "       'GAMBLING', 'HOMICIDE', 'INTERFERENCE WITH PUBLIC OFFICER',\n",
        "       'INTIMIDATION', 'KIDNAPPING', 'LIQUOR LAW VIOLATION',\n",
        "       'MOTOR VEHICLE THEFT', 'NARCOTICS', 'NON - CRIMINAL',\n",
        "       'NON-CRIMINAL', 'OBSCENITY', 'OFFENSE INVOLVING CHILDREN',\n",
        "       'OTHER OFFENSE', 'PROSTITUTION', 'PUBLIC INDECENCY',\n",
        "       'PUBLIC PEACE VIOLATION', 'ROBBERY', 'SEX OFFENSE', 'STALKING',\n",
        "       'THEFT', 'WEAPONS VIOLATION'], \n",
        "      dtype='<U33')"
       ]
      }
     ],
     "prompt_number": 11
    },
    {
     "cell_type": "code",
     "collapsed": false,
     "input": [
      "arrests = df_crimes[df_crimes['Arrest'] == True]\n",
      "# create a shortcut to the series of crimes that did result in an arrest"
     ],
     "language": "python",
     "metadata": {},
     "outputs": [],
     "prompt_number": 12
    },
    {
     "cell_type": "code",
     "collapsed": false,
     "input": [
      "primary_type = arrests['Primary Type']\n",
      "# for every criminal record that resulted in an arrest, specify the series of primary types \n",
      "# associated with that row"
     ],
     "language": "python",
     "metadata": {},
     "outputs": [],
     "prompt_number": 13
    },
    {
     "cell_type": "code",
     "collapsed": false,
     "input": [
      "from collections import Counter \n",
      "Counter(primary_type).most_common()\n",
      "# count the numbers of times each type of violation occurs among cases that did result in an arrest"
     ],
     "language": "python",
     "metadata": {},
     "outputs": [
      {
       "metadata": {},
       "output_type": "pyout",
       "prompt_number": 14,
       "text": [
        "[('NARCOTICS', 1187),\n",
        " ('BATTERY', 805),\n",
        " ('THEFT', 400),\n",
        " ('ASSAULT', 235),\n",
        " ('CRIMINAL TRESPASS', 228),\n",
        " ('OTHER OFFENSE', 216),\n",
        " ('CRIMINAL DAMAGE', 111),\n",
        " ('WEAPONS VIOLATION', 110),\n",
        " ('PUBLIC PEACE VIOLATION', 95),\n",
        " ('PROSTITUTION', 66),\n",
        " ('INTERFERENCE WITH PUBLIC OFFICER', 59),\n",
        " ('MOTOR VEHICLE THEFT', 42),\n",
        " ('DECEPTIVE PRACTICE', 31),\n",
        " ('ROBBERY', 28),\n",
        " ('BURGLARY', 19),\n",
        " ('LIQUOR LAW VIOLATION', 12),\n",
        " ('SEX OFFENSE', 9),\n",
        " ('OFFENSE INVOLVING CHILDREN', 8),\n",
        " ('CRIM SEXUAL ASSAULT', 3),\n",
        " ('PUBLIC INDECENCY', 2),\n",
        " ('HOMICIDE', 2),\n",
        " ('CONCEALED CARRY LICENSE VIOLATION', 2),\n",
        " ('GAMBLING', 2),\n",
        " ('KIDNAPPING', 1),\n",
        " ('INTIMIDATION', 1),\n",
        " ('OBSCENITY', 1),\n",
        " ('ARSON', 1)]"
       ]
      }
     ],
     "prompt_number": 14
    },
    {
     "cell_type": "code",
     "collapsed": false,
     "input": [
      "# ANSWER TO Q3: Three types crime that most often result in an arrest are narcotics, battery, and theft."
     ],
     "language": "python",
     "metadata": {},
     "outputs": [],
     "prompt_number": 15
    },
    {
     "cell_type": "code",
     "collapsed": false,
     "input": [
      "# Question 4: What are the number of weapons violations (one of the Primary Types) per district?"
     ],
     "language": "python",
     "metadata": {},
     "outputs": [],
     "prompt_number": 16
    },
    {
     "cell_type": "code",
     "collapsed": false,
     "input": [
      "weapons_violations = df_crimes[df_crimes['Primary Type'] == 'WEAPONS VIOLATION']\n",
      "# going back to the original table of crimes, specify the collection of crimes that \n",
      "# involve a weapons violation"
     ],
     "language": "python",
     "metadata": {},
     "outputs": [],
     "prompt_number": 17
    },
    {
     "cell_type": "code",
     "collapsed": false,
     "input": [
      "by_district = weapons_violations['District']\n",
      "# show the districts associated with crimes that involve a weapons violation\n",
      "by_district"
     ],
     "language": "python",
     "metadata": {},
     "outputs": [
      {
       "metadata": {},
       "output_type": "pyout",
       "prompt_number": 18,
       "text": [
        "73       7\n",
        "291      7\n",
        "323      7\n",
        "560     25\n",
        "811      6\n",
        "1036     6\n",
        "1104     6\n",
        "1150     5\n",
        "1163     5\n",
        "1549     9\n",
        "1610    10\n",
        "1707    10\n",
        "1713    15\n",
        "1753     9\n",
        "1760     6\n",
        "...\n",
        "20563    12\n",
        "20603     7\n",
        "20695    10\n",
        "20728     7\n",
        "20923    18\n",
        "21122     7\n",
        "21296     9\n",
        "21326     5\n",
        "21396    15\n",
        "21452     6\n",
        "21552    10\n",
        "21574     5\n",
        "21601     6\n",
        "21711    11\n",
        "21802    11\n",
        "Name: District, Length: 184, dtype: int64"
       ]
      }
     ],
     "prompt_number": 18
    },
    {
     "cell_type": "code",
     "collapsed": false,
     "input": [
      "weapons_violations_by_district = Counter(by_district)\n",
      "# count the number times each district occurs \n",
      "weapons_violations_by_district.most_common()"
     ],
     "language": "python",
     "metadata": {},
     "outputs": [
      {
       "metadata": {},
       "output_type": "pyout",
       "prompt_number": 19,
       "text": [
        "[(6, 21),\n",
        " (11, 21),\n",
        " (5, 19),\n",
        " (7, 16),\n",
        " (9, 15),\n",
        " (10, 13),\n",
        " (4, 12),\n",
        " (8, 12),\n",
        " (15, 11),\n",
        " (25, 9),\n",
        " (3, 8),\n",
        " (2, 5),\n",
        " (12, 5),\n",
        " (20, 3),\n",
        " (22, 3),\n",
        " (24, 3),\n",
        " (14, 2),\n",
        " (18, 2),\n",
        " (19, 2),\n",
        " (1, 1),\n",
        " (16, 1)]"
       ]
      }
     ],
     "prompt_number": 19
    },
    {
     "cell_type": "code",
     "collapsed": false,
     "input": [
      "# ANSWER TO Q4: The number of weapons violations per district is as follows: \n",
      "# District 1 and 1\n",
      "# District 2 has 5\n",
      "# District 3 has 8\n",
      "# District 4 has 12\n",
      "# District 5 has 19\n",
      "# District 6 has 21\n",
      "# District 7 has 16\n",
      "# District 8 has 12\n",
      "# District 9 has 15\n",
      "# District 10 has 13\n",
      "# District 11 has 21\n",
      "# District 12 has 5\n",
      "# NO DISTRICT 13 AVAILABLE\n",
      "# District 14 has 2\n",
      "# District 15 has 11\n",
      "# District 16 has 1\n",
      "# NO DISTRICT 17 AVAILABLE\n",
      "# District 18 has 2\n",
      "# District 19 has 2\n",
      "# District 20 has 3\n",
      "# NO DISTRICT 21 AVAILABLE\n",
      "# District 22 has 3\n",
      "# District 24 has 3\n",
      "# District 25 has 9"
     ],
     "language": "python",
     "metadata": {},
     "outputs": [],
     "prompt_number": 20
    },
    {
     "cell_type": "code",
     "collapsed": false,
     "input": [
      "# Question 5: What are the number of arrests per days of the week? \n",
      "# Which day of the week has the most arrests?"
     ],
     "language": "python",
     "metadata": {},
     "outputs": [],
     "prompt_number": 21
    },
    {
     "cell_type": "code",
     "collapsed": false,
     "input": [
      "arrest_date = arrests['Date']\n",
      "# refer to the date associated with each record in the arrests-only table"
     ],
     "language": "python",
     "metadata": {},
     "outputs": [],
     "prompt_number": 22
    },
    {
     "cell_type": "code",
     "collapsed": false,
     "input": [
      "def print_type(var):\n",
      "    print(str(var) + ' is type' + str(type(var)))\n",
      "# establish function to check the type of the date information"
     ],
     "language": "python",
     "metadata": {},
     "outputs": [],
     "prompt_number": 23
    },
    {
     "cell_type": "code",
     "collapsed": false,
     "input": [
      "print_type(arrest_date)"
     ],
     "language": "python",
     "metadata": {},
     "outputs": [
      {
       "output_type": "stream",
       "stream": "stdout",
       "text": [
        "2     01/03/2016 11:44:00 PM\n",
        "10    01/03/2016 11:24:00 PM\n",
        "11    01/03/2016 11:20:00 PM\n",
        "14    01/03/2016 11:10:00 PM\n",
        "16    01/03/2016 11:09:00 PM\n",
        "29    01/03/2016 10:30:00 PM\n",
        "38    01/03/2016 10:10:00 PM\n",
        "40    01/03/2016 10:08:00 PM\n",
        "41    01/03/2016 10:08:00 PM\n",
        "56    01/03/2016 09:50:00 PM\n",
        "58    01/03/2016 09:48:00 PM\n",
        "67    01/03/2016 09:20:00 PM\n",
        "68    01/03/2016 09:20:00 PM\n",
        "70    01/03/2016 09:16:00 PM\n",
        "72    01/03/2016 09:15:00 PM\n",
        "...\n",
        "21788    12/01/2015 07:35:00 AM\n",
        "21789    12/01/2015 07:31:00 AM\n",
        "21794    12/01/2015 07:20:00 AM\n",
        "21819    12/01/2015 04:53:00 AM\n",
        "21821    12/01/2015 04:33:00 AM\n",
        "21823    12/01/2015 04:15:00 AM\n",
        "21825    12/01/2015 04:00:00 AM\n",
        "21840    12/01/2015 02:00:00 AM\n",
        "21851    12/01/2015 01:30:00 AM\n",
        "21853    12/01/2015 01:20:00 AM\n",
        "21859    12/01/2015 12:57:00 AM\n",
        "21860    12/01/2015 12:49:00 AM\n",
        "21862    12/01/2015 12:34:00 AM\n",
        "21868    12/01/2015 12:22:00 AM\n",
        "21870    12/01/2015 12:01:00 AM\n",
        "Name: Date, Length: 3676, dtype: object is type<class 'pandas.core.series.Series'>\n"
       ]
      }
     ],
     "prompt_number": 24
    },
    {
     "cell_type": "code",
     "collapsed": false,
     "input": [
      "# proceed to convert Date series into date and time information\n",
      "new_arrest_date = pd.to_datetime(arrest_date)\n",
      "new_arrest_date"
     ],
     "language": "python",
     "metadata": {},
     "outputs": [
      {
       "metadata": {},
       "output_type": "pyout",
       "prompt_number": 25,
       "text": [
        "2    2016-01-03 23:44:00\n",
        "10   2016-01-03 23:24:00\n",
        "11   2016-01-03 23:20:00\n",
        "14   2016-01-03 23:10:00\n",
        "16   2016-01-03 23:09:00\n",
        "29   2016-01-03 22:30:00\n",
        "38   2016-01-03 22:10:00\n",
        "40   2016-01-03 22:08:00\n",
        "41   2016-01-03 22:08:00\n",
        "56   2016-01-03 21:50:00\n",
        "58   2016-01-03 21:48:00\n",
        "67   2016-01-03 21:20:00\n",
        "68   2016-01-03 21:20:00\n",
        "70   2016-01-03 21:16:00\n",
        "72   2016-01-03 21:15:00\n",
        "...\n",
        "21788   2015-12-01 07:35:00\n",
        "21789   2015-12-01 07:31:00\n",
        "21794   2015-12-01 07:20:00\n",
        "21819   2015-12-01 04:53:00\n",
        "21821   2015-12-01 04:33:00\n",
        "21823   2015-12-01 04:15:00\n",
        "21825   2015-12-01 04:00:00\n",
        "21840   2015-12-01 02:00:00\n",
        "21851   2015-12-01 01:30:00\n",
        "21853   2015-12-01 01:20:00\n",
        "21859   2015-12-01 00:57:00\n",
        "21860   2015-12-01 00:49:00\n",
        "21862   2015-12-01 00:34:00\n",
        "21868   2015-12-01 00:22:00\n",
        "21870   2015-12-01 00:01:00\n",
        "Name: Date, Length: 3676, dtype: datetime64[ns]"
       ]
      }
     ],
     "prompt_number": 25
    },
    {
     "cell_type": "code",
     "collapsed": false,
     "input": [
      "def dayofweek(new_arrest_date):\n",
      "    return new_arrest_date.dayofweek\n",
      "# funtion to identify the day of the week of each arrest"
     ],
     "language": "python",
     "metadata": {},
     "outputs": [],
     "prompt_number": 26
    },
    {
     "cell_type": "code",
     "collapsed": false,
     "input": [
      "day_of_week = new_arrest_date.apply(dayofweek)\n",
      "# for every row, identify the day of the week\n",
      "day_of_week"
     ],
     "language": "python",
     "metadata": {},
     "outputs": [
      {
       "metadata": {},
       "output_type": "pyout",
       "prompt_number": 27,
       "text": [
        "2     6\n",
        "10    6\n",
        "11    6\n",
        "14    6\n",
        "16    6\n",
        "29    6\n",
        "38    6\n",
        "40    6\n",
        "41    6\n",
        "56    6\n",
        "58    6\n",
        "67    6\n",
        "68    6\n",
        "70    6\n",
        "72    6\n",
        "...\n",
        "21788    1\n",
        "21789    1\n",
        "21794    1\n",
        "21819    1\n",
        "21821    1\n",
        "21823    1\n",
        "21825    1\n",
        "21840    1\n",
        "21851    1\n",
        "21853    1\n",
        "21859    1\n",
        "21860    1\n",
        "21862    1\n",
        "21868    1\n",
        "21870    1\n",
        "Name: Date, Length: 3676, dtype: int64"
       ]
      }
     ],
     "prompt_number": 27
    },
    {
     "cell_type": "code",
     "collapsed": false,
     "input": [
      "arrests_per_day = Counter(day_of_week)\n",
      "arrests_per_day\n",
      "# count the number of times each day of the week occurs among arrests"
     ],
     "language": "python",
     "metadata": {},
     "outputs": [
      {
       "metadata": {},
       "output_type": "pyout",
       "prompt_number": 28,
       "text": [
        "Counter({1: 625, 2: 563, 5: 551, 6: 541, 4: 500, 3: 494, 0: 402})"
       ]
      }
     ],
     "prompt_number": 28
    },
    {
     "cell_type": "code",
     "collapsed": false,
     "input": [
      "arrests_per_day.most_common(1)"
     ],
     "language": "python",
     "metadata": {},
     "outputs": [
      {
       "metadata": {},
       "output_type": "pyout",
       "prompt_number": 29,
       "text": [
        "[(1, 625)]"
       ]
      }
     ],
     "prompt_number": 29
    },
    {
     "cell_type": "code",
     "collapsed": false,
     "input": [
      "# ANSWER TO Q5: assuming 0=Monday, 1=Tuesday, 2=Wednesday, 3=Thursday, 4=Friday, 5=Saturday, 6=Sunday\n",
      "# 402 arrests occurred on a Monday\n",
      "# 625 arrests occurred on a Tuesday\n",
      "# 563 arrests occurred on a Wednesday\n",
      "# 494 arrests occurred on a Thursday\n",
      "# 500 arrests occurred on a Friday\n",
      "# 551 arrests occurred on a Saturday\n",
      "# 541 arrests occurred on a Sunday.\n",
      "\n",
      "# And most arrests occur on Tuesdays."
     ],
     "language": "python",
     "metadata": {},
     "outputs": [],
     "prompt_number": 30
    },
    {
     "cell_type": "heading",
     "level": 2,
     "metadata": {},
     "source": [
      "# PART 2 - BASIC PLOTTING"
     ]
    },
    {
     "cell_type": "code",
     "collapsed": false,
     "input": [
      "# Question 6: Make bar charts that show (a) the result of Question 4 and (b) Question 5."
     ],
     "language": "python",
     "metadata": {},
     "outputs": [],
     "prompt_number": 31
    },
    {
     "cell_type": "code",
     "collapsed": false,
     "input": [
      "# histogram or bar graph for Question 4, on the number of weapons violations per district\n",
      "\n",
      "labels, values = zip(*weapons_violations_by_district.items())\n",
      "\n",
      "indexes = np.arange(len(labels))\n",
      "width = 1\n",
      "\n",
      "plt.bar(indexes, values, width)\n",
      "plt.xticks(indexes + width * 0.5, labels)\n",
      "plt.xlabel('District Number')\n",
      "plt.ylabel('Number of Weapons Violations')\n",
      "plt.title('Frequency of Weapons Violations per District')\n",
      "plt.show()"
     ],
     "language": "python",
     "metadata": {},
     "outputs": [
      {
       "metadata": {},
       "output_type": "display_data",
       "png": "[encoded data removed]",
       "text": [
        "<matplotlib.figure.Figure at 0x7f3e21a44da0>"
       ]
      }
     ],
     "prompt_number": 32
    },
    {
     "cell_type": "code",
     "collapsed": false,
     "input": [
      "# histogram or bar graph for Question 5, on the number of arrests per days of the week\n",
      "\n",
      "labels, values = zip(*arrests_per_day.items())\n",
      "\n",
      "indexes = np.arange(len(labels))\n",
      "width = 1\n",
      "\n",
      "plt.bar(indexes, values, width)\n",
      "plt.xticks(indexes + width * 0.5, labels)\n",
      "plt.xlabel('Day of the Week')\n",
      "plt.ylabel('Number of Arrests')\n",
      "plt.title('Frequency of Arrests per Day of Week')\n",
      "plt.show()"
     ],
     "language": "python",
     "metadata": {},
     "outputs": [
      {
       "metadata": {},
       "output_type": "display_data",
       "png": "[encoded data removed]",
       "text": [
        "<matplotlib.figure.Figure at 0x7f3e226109b0>"
       ]
      }
     ],
     "prompt_number": 33
    },
    {
     "cell_type": "code",
     "collapsed": false,
     "input": [
      "# Question 7: Make a scatter plot of latitude versus longitude for those crimes where the \n",
      "# Primary Type was: deceptive practice"
     ],
     "language": "python",
     "metadata": {},
     "outputs": [],
     "prompt_number": 34
    },
    {
     "cell_type": "code",
     "collapsed": false,
     "input": [
      "deceptive_practice_reports = df_crimes[df_crimes['Primary Type'] == 'DECEPTIVE PRACTICE']\n",
      "# limit reported crimes to those involving deceptive practice\n",
      "latitude = deceptive_practice_reports['Latitude']\n",
      "longitude = deceptive_practice_reports['Longitude']\n",
      "# create shortcuts to latitude and longitude associated with each \n",
      "# crime involving deceptive practice"
     ],
     "language": "python",
     "metadata": {},
     "outputs": [],
     "prompt_number": 35
    },
    {
     "cell_type": "code",
     "collapsed": false,
     "input": [
      "plt.scatter(latitude, longitude)\n",
      "plt.xlabel('Latitude')\n",
      "plt.ylabel('Longitude')\n",
      "plt.title('            Latitude and Longitude of Arrests Involving Deceptive Practice')"
     ],
     "language": "python",
     "metadata": {},
     "outputs": [
      {
       "metadata": {},
       "output_type": "pyout",
       "prompt_number": 36,
       "text": [
        "<matplotlib.text.Text at 0x7f3e225a3908>"
       ]
      },
      {
       "metadata": {},
       "output_type": "display_data",
       "png": "[encoded data removed]",
       "text": [
        "<matplotlib.figure.Figure at 0x7f3e22556be0>"
       ]
      }
     ],
     "prompt_number": 36
    },
    {
     "cell_type": "code",
     "collapsed": false,
     "input": [
      "# Question 8: Make a histogram that shows the number of arrests per beat. "
     ],
     "language": "python",
     "metadata": {},
     "outputs": [],
     "prompt_number": 37
    },
    {
     "cell_type": "code",
     "collapsed": false,
     "input": [
      "arrests = df_crimes[df_crimes['Arrest'] == True]\n",
      "# collection of arrests\n",
      "arrests['Beat']\n",
      "# shows the beat associated with each arrest"
     ],
     "language": "python",
     "metadata": {},
     "outputs": [
      {
       "metadata": {},
       "output_type": "pyout",
       "prompt_number": 38,
       "text": [
        "2     2011\n",
        "10     424\n",
        "11    1932\n",
        "14    2515\n",
        "16    2422\n",
        "29    1122\n",
        "38    1733\n",
        "40     631\n",
        "41    2523\n",
        "56     414\n",
        "58    1211\n",
        "67    1622\n",
        "68     512\n",
        "70     231\n",
        "72    1221\n",
        "...\n",
        "21788    1652\n",
        "21789    1533\n",
        "21794    1532\n",
        "21819     331\n",
        "21821     624\n",
        "21823     733\n",
        "21825     725\n",
        "21840     424\n",
        "21851     314\n",
        "21853     712\n",
        "21859    2534\n",
        "21860    2432\n",
        "21862     715\n",
        "21868     831\n",
        "21870     133\n",
        "Name: Beat, Length: 3676, dtype: int64"
       ]
      }
     ],
     "prompt_number": 38
    },
    {
     "cell_type": "code",
     "collapsed": false,
     "input": [
      "arrests_per_beat = Counter(arrests['Beat'])\n",
      "arrests_per_beat"
     ],
     "language": "python",
     "metadata": {},
     "outputs": [
      {
       "metadata": {},
       "output_type": "pyout",
       "prompt_number": 39,
       "text": [
        "Counter({1115: 63, 1121: 62, 1131: 62, 1533: 52, 1134: 51, 1112: 50, 1522: 46, 1132: 44, 421: 44, 1113: 43, 1011: 41, 622: 39, 624: 34, 513: 32, 621: 32, 1122: 31, 723: 31, 725: 31, 2533: 31, 735: 30, 1021: 30, 111: 28, 1123: 27, 623: 27, 712: 27, 2515: 27, 423: 27, 511: 27, 1532: 26, 431: 25, 1834: 25, 1133: 24, 731: 24, 331: 23, 611: 22, 733: 22, 2534: 22, 2422: 22, 1531: 22, 632: 21, 1432: 21, 414: 21, 422: 21, 2521: 21, 1524: 21, 613: 20, 2535: 20, 1523: 20, 524: 19, 1225: 19, 424: 19, 412: 19, 612: 19, 1022: 19, 1111: 18, 1124: 18, 2222: 18, 815: 18, 1833: 18, 831: 18, 321: 18, 324: 18, 2413: 18, 323: 18, 922: 18, 522: 17, 631: 17, 633: 17, 112: 17, 713: 17, 1824: 17, 822: 17, 432: 17, 1012: 17, 2512: 17, 934: 17, 1633: 16, 1623: 16, 1712: 16, 1731: 16, 312: 16, 1913: 16, 322: 16, 2011: 16, 512: 15, 1024: 15, 813: 15, 933: 15, 2532: 15, 1014: 15, 531: 14, 614: 14, 123: 14, 1221: 14, 1222: 14, 1223: 14, 824: 14, 835: 14, 915: 14, 413: 14, 634: 14, 523: 13, 533: 13, 411: 13, 113: 13, 711: 13, 2223: 13, 724: 13, 734: 13, 232: 13, 811: 13, 823: 13, 825: 13, 2531: 13, 1031: 12, 1033: 12, 2524: 12, 1034: 12, 131: 12, 1713: 12, 2232: 12, 732: 12, 832: 12, 334: 12, 1422: 12, 1914: 12, 1924: 12, 833: 12, 924: 12, 931: 12, 1513: 12, 1013: 12, 1023: 12, 532: 11, 122: 11, 2213: 11, 224: 11, 225: 11, 231: 11, 1821: 11, 332: 11, 1423: 11, 1424: 11, 2424: 11, 911: 11, 912: 11, 2522: 11, 821: 10, 1211: 10, 715: 10, 1234: 10, 1923: 10, 311: 10, 313: 10, 223: 10, 1421: 10, 2432: 10, 433: 10, 1723: 9, 1114: 9, 1233: 9, 2234: 9, 1912: 9, 121: 9, 211: 9, 212: 9, 2523: 9, 1831: 9, 222: 9, 314: 9, 2023: 9, 1934: 9, 935: 9, 434: 9, 1434: 8, 1722: 8, 1135: 8, 2211: 8, 2221: 8, 1724: 8, 1711: 8, 1732: 8, 1235: 8, 2433: 8, 1511: 8, 333: 8, 1925: 8, 1933: 8, 1634: 8, 2514: 8, 2033: 8, 1032: 7, 1624: 7, 132: 7, 2212: 7, 2233: 7, 1215: 7, 1224: 7, 1231: 7, 2031: 7, 214: 7, 221: 7, 923: 7, 2511: 7, 2013: 7, 1512: 7, 1611: 6, 1614: 6, 1622: 6, 133: 6, 714: 6, 1232: 6, 722: 6, 1935: 6, 1412: 6, 1822: 6, 2412: 6, 1411: 6, 1931: 6, 913: 6, 1433: 6, 925: 6, 2032: 6, 2513: 5, 1631: 5, 1632: 5, 1214: 5, 726: 5, 215: 5, 1921: 5, 1932: 5, 914: 5, 2012: 5, 2022: 5, 1212: 4, 124: 4, 213: 4, 812: 4, 834: 4, 2024: 4, 1922: 4, 1414: 4, 921: 4, 2525: 3, 2411: 3, 1612: 3, 1653: 3, 1733: 3, 1812: 3, 1413: 3, 1832: 3, 932: 3, 1125: 3, 1613: 2, 114: 2, 1651: 2, 1652: 2, 1654: 2, 235: 2, 2423: 2, 2431: 2, 1823: 2, 1655: 1, 1431: 1, 1811: 1, 233: 1, 1814: 1, 814: 1})"
       ]
      }
     ],
     "prompt_number": 39
    },
    {
     "cell_type": "code",
     "collapsed": false,
     "input": [
      "# draw histogram\n",
      "\n",
      "labels, values = zip(*arrests_per_beat.items())\n",
      "\n",
      "indexes = np.arange(len(labels))\n",
      "width = 1\n",
      "\n",
      "plt.bar(indexes, values, width)\n",
      "plt.xticks(indexes + width * 0.5, labels)\n",
      "plt.xlabel('Beat')\n",
      "plt.ylabel('Frequency')\n",
      "plt.title('Arrests per Beat')\n",
      "plt.show()"
     ],
     "language": "python",
     "metadata": {},
     "outputs": [
      {
       "metadata": {},
       "output_type": "display_data",
       "png": "[encoded data removed]",
       "text": [
        "<matplotlib.figure.Figure at 0x7f3e22590780>"
       ]
      }
     ],
     "prompt_number": 40
    },
    {
     "cell_type": "code",
     "collapsed": false,
     "input": [
      "# Challenge 1 (ungraded): Make a timeseries plot of arrests per date in that month"
     ],
     "language": "python",
     "metadata": {},
     "outputs": [],
     "prompt_number": 41
    }
   ],
   "metadata": {}
  }
 ]
}